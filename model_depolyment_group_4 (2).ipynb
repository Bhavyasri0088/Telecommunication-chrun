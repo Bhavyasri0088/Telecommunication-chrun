{
 "cells": [
  {
   "cell_type": "code",
   "execution_count": 1,
   "id": "f13414c9-3ad4-4e3b-bfa6-d2cfa514d9b8",
   "metadata": {},
   "outputs": [
    {
     "name": "stdout",
     "output_type": "stream",
     "text": [
      "app.py created successfully.\n"
     ]
    }
   ],
   "source": [
    "app_code = \"\"\"\n",
    "import streamlit as st\n",
    "import pandas as pd\n",
    "import pickle\n",
    "\n",
    "# Load the trained model\n",
    "with open(r\"C:\\\\Users\\\\User\\\\Downloads\\\\random_forest.pkl\", \"rb\") as f:\n",
    "    model = pickle.load(f)\n",
    "\n",
    "# Streamlit app\n",
    "st.title(\"Telecommunication Customer Churn Prediction\")\n",
    "\n",
    "st.write(\"Provide the customer details below:\")\n",
    "\n",
    "# User inputs\n",
    "account_length = st.number_input(\"Account Length\", min_value=0, value=100)\n",
    "voice_plan = st.selectbox(\"Voice Plan\", [\"yes\", \"no\"])\n",
    "voice_messages = st.number_input(\"Voice Messages\", min_value=0, value=0)\n",
    "intl_plan = st.selectbox(\"International Plan\", [\"yes\", \"no\"])\n",
    "intl_mins = st.number_input(\"International Minutes\", min_value=0.0, value=10.0)\n",
    "intl_calls = st.number_input(\"International Calls\", min_value=0, value=4)\n",
    "intl_charge = st.number_input(\"International Charge\", min_value=0.0, value=2.77)\n",
    "day_mins = st.number_input(\"Day Minutes\", min_value=0.0, value=180.0)\n",
    "day_calls = st.number_input(\"Day Calls\", min_value=0, value=100)\n",
    "day_charge = st.number_input(\"Day Charge\", min_value=0.0, value=17.05)\n",
    "eve_mins = st.number_input(\"Evening Minutes\", min_value=0.0, value=200.0)\n",
    "eve_calls = st.number_input(\"Evening Calls\", min_value=0, value=100)\n",
    "eve_charge = st.number_input(\"Evening Charge\", min_value=0.0, value=17.0)\n",
    "night_mins = st.number_input(\"Night Minutes\", min_value=0.0, value=200.0)\n",
    "night_calls = st.number_input(\"Night Calls\", min_value=0, value=100)\n",
    "night_charge = st.number_input(\"Night Charge\", min_value=0.0, value=9.0)\n",
    "customer_calls = st.number_input(\"Customer Service Calls\", min_value=0, value=1)\n",
    "\n",
    "# Prepare input data for prediction\n",
    "input_data = pd.DataFrame({\n",
    "    \"account.length\": [account_length],\n",
    "    \"voice.plan\": [1 if voice_plan == \"yes\" else 0],\n",
    "    \"voice.messages\": [voice_messages],\n",
    "    \"intl.plan\": [1 if intl_plan == \"yes\" else 0],\n",
    "    \"intl.mins\": [intl_mins],\n",
    "    \"intl.calls\": [intl_calls],\n",
    "    \"intl.charge\": [intl_charge],\n",
    "    \"day.mins\": [day_mins],\n",
    "    \"day.calls\": [day_calls],\n",
    "    \"day.charge\": [day_charge],\n",
    "    \"eve.mins\": [eve_mins],\n",
    "    \"eve.calls\": [eve_calls],\n",
    "    \"eve.charge\": [eve_charge],\n",
    "    \"night.mins\": [night_mins],\n",
    "    \"night.calls\": [night_calls],\n",
    "    \"night.charge\": [night_charge],\n",
    "    \"customer.calls\": [customer_calls],\n",
    "})\n",
    "\n",
    "# Predict churn\n",
    "prediction = model.predict(input_data)\n",
    "\n",
    "# Show result\n",
    "if st.button(\"Predict\"):\n",
    "    if prediction[0] == 1:\n",
    "        st.write(\"Customer churn detected! Immediate attention required to retain the client.\")\n",
    "    else:\n",
    "        st.write(\"Customer is loyal and unlikely to churn. Maintain current engagement strategies.\")\n",
    "\"\"\"\n",
    "\n",
    "# Save app.py\n",
    "with open(\"app.py\", \"w\") as file:\n",
    "    file.write(app_code)\n",
    "\n",
    "print(\"app.py created successfully.\")\n"
   ]
  },
  {
   "cell_type": "code",
   "execution_count": null,
   "id": "c7cd922e-b357-45e5-b93c-217f2f444026",
   "metadata": {},
   "outputs": [],
   "source": []
  }
 ],
 "metadata": {
  "kernelspec": {
   "display_name": "Python 3 (ipykernel)",
   "language": "python",
   "name": "python3"
  },
  "language_info": {
   "codemirror_mode": {
    "name": "ipython",
    "version": 3
   },
   "file_extension": ".py",
   "mimetype": "text/x-python",
   "name": "python",
   "nbconvert_exporter": "python",
   "pygments_lexer": "ipython3",
   "version": "3.12.7"
  }
 },
 "nbformat": 4,
 "nbformat_minor": 5
}
